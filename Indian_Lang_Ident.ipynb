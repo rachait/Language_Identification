{
  "cells": [
    {
      "cell_type": "code",
      "execution_count": 1,
      "metadata": {
        "id": "jp4Rtv6-JeTD"
      },
      "outputs": [],
      "source": [
        "import pandas as pd\n",
        "from sklearn.model_selection import train_test_split\n",
        "from sklearn.feature_extraction.text import CountVectorizer, TfidfVectorizer\n",
        "from sklearn.preprocessing import LabelEncoder\n",
        "df = pd.read_csv('Filtered_Indian_Languages.csv')"
      ]
    },
    {
      "cell_type": "markdown",
      "metadata": {
        "id": "ilPYxYpSJeTF"
      },
      "source": [
        "**Step 1: Load and Prepare the Dataset**"
      ]
    },
    {
      "cell_type": "code",
      "execution_count": 2,
      "metadata": {
        "colab": {
          "base_uri": "https://localhost:8080/",
          "height": 363
        },
        "id": "jUzFkYliJeTH",
        "outputId": "5ae182b9-1fb3-4f18-f01f-4a58c6982570"
      },
      "outputs": [
        {
          "data": {
            "text/html": [
              "<div>\n",
              "<style scoped>\n",
              "    .dataframe tbody tr th:only-of-type {\n",
              "        vertical-align: middle;\n",
              "    }\n",
              "\n",
              "    .dataframe tbody tr th {\n",
              "        vertical-align: top;\n",
              "    }\n",
              "\n",
              "    .dataframe thead th {\n",
              "        text-align: right;\n",
              "    }\n",
              "</style>\n",
              "<table border=\"1\" class=\"dataframe\">\n",
              "  <thead>\n",
              "    <tr style=\"text-align: right;\">\n",
              "      <th></th>\n",
              "      <th>Text</th>\n",
              "      <th>Language</th>\n",
              "    </tr>\n",
              "  </thead>\n",
              "  <tbody>\n",
              "    <tr>\n",
              "      <th>0</th>\n",
              "      <td>ഭൗതികപ്രപഞ്ചത്തെ മൊത്തത്തിൽ സൂചിപ്പിക്കുന്ന പദ...</td>\n",
              "      <td>Malayalam</td>\n",
              "    </tr>\n",
              "    <tr>\n",
              "      <th>1</th>\n",
              "      <td>ഭൗതികപ്രതിഭാസങ്ങളും ജീവനും പ്രകൃതിയുടെ ഘടകങ്ങള...</td>\n",
              "      <td>Malayalam</td>\n",
              "    </tr>\n",
              "    <tr>\n",
              "      <th>2</th>\n",
              "      <td>മനുഷ്യനിർമിതമായ വസ്തുക്കളെ പ്രകൃതിയുടെ ഭാഗമായി...</td>\n",
              "      <td>Malayalam</td>\n",
              "    </tr>\n",
              "    <tr>\n",
              "      <th>3</th>\n",
              "      <td>അവയെ കൃത്രിമം എന്ന് വിശേഷിപ്പിക്കുന്നുഅഭിപ്രായ...</td>\n",
              "      <td>Malayalam</td>\n",
              "    </tr>\n",
              "    <tr>\n",
              "      <th>4</th>\n",
              "      <td>പ്രകൃതി എന്ന പദം പ്രപഞ്ചത്തെയും അതിലെ സമസ്ത പ്...</td>\n",
              "      <td>Malayalam</td>\n",
              "    </tr>\n",
              "    <tr>\n",
              "      <th>5</th>\n",
              "      <td>അറിയപ്പെടുന്ന ഗ്രഹങ്ങളിൽ ജീവൻ നിലനിൽക്കുന്നതായ...</td>\n",
              "      <td>Malayalam</td>\n",
              "    </tr>\n",
              "    <tr>\n",
              "      <th>6</th>\n",
              "      <td>സൗരയൂഥത്തിൽ സൂര്യനിൽ നിന്ന് മൂന്നാം സ്ഥാനമാണ് ...</td>\n",
              "      <td>Malayalam</td>\n",
              "    </tr>\n",
              "    <tr>\n",
              "      <th>7</th>\n",
              "      <td>പ്രപഞ്ചത്തിലെ വസ്തുക്കളുടെ അന്തരീക്ഷത്തിന് പുറ...</td>\n",
              "      <td>Malayalam</td>\n",
              "    </tr>\n",
              "    <tr>\n",
              "      <th>8</th>\n",
              "      <td>ദർശനം ശാസ്ത്രം ==കുറിപ്പുകളും അവലംബങ്ങളും==ഉരു...</td>\n",
              "      <td>Malayalam</td>\n",
              "    </tr>\n",
              "    <tr>\n",
              "      <th>9</th>\n",
              "      <td>Atmospheric sciences ·\\nപരിതഃസ്ഥിതിക ശാസ്ത്രം ...</td>\n",
              "      <td>Malayalam</td>\n",
              "    </tr>\n",
              "  </tbody>\n",
              "</table>\n",
              "</div>"
            ],
            "text/plain": [
              "                                                Text   Language\n",
              "0  ഭൗതികപ്രപഞ്ചത്തെ മൊത്തത്തിൽ സൂചിപ്പിക്കുന്ന പദ...  Malayalam\n",
              "1  ഭൗതികപ്രതിഭാസങ്ങളും ജീവനും പ്രകൃതിയുടെ ഘടകങ്ങള...  Malayalam\n",
              "2  മനുഷ്യനിർമിതമായ വസ്തുക്കളെ പ്രകൃതിയുടെ ഭാഗമായി...  Malayalam\n",
              "3  അവയെ കൃത്രിമം എന്ന് വിശേഷിപ്പിക്കുന്നുഅഭിപ്രായ...  Malayalam\n",
              "4  പ്രകൃതി എന്ന പദം പ്രപഞ്ചത്തെയും അതിലെ സമസ്ത പ്...  Malayalam\n",
              "5  അറിയപ്പെടുന്ന ഗ്രഹങ്ങളിൽ ജീവൻ നിലനിൽക്കുന്നതായ...  Malayalam\n",
              "6  സൗരയൂഥത്തിൽ സൂര്യനിൽ നിന്ന് മൂന്നാം സ്ഥാനമാണ് ...  Malayalam\n",
              "7  പ്രപഞ്ചത്തിലെ വസ്തുക്കളുടെ അന്തരീക്ഷത്തിന് പുറ...  Malayalam\n",
              "8  ദർശനം ശാസ്ത്രം ==കുറിപ്പുകളും അവലംബങ്ങളും==ഉരു...  Malayalam\n",
              "9  Atmospheric sciences ·\\nപരിതഃസ്ഥിതിക ശാസ്ത്രം ...  Malayalam"
            ]
          },
          "execution_count": 2,
          "metadata": {},
          "output_type": "execute_result"
        }
      ],
      "source": [
        "df.head(10)"
      ]
    },
    {
      "cell_type": "code",
      "execution_count": 3,
      "metadata": {
        "colab": {
          "base_uri": "https://localhost:8080/"
        },
        "id": "nFmqLaVgJeTH",
        "outputId": "63708c30-5ef1-40c5-d2c3-c0c1bf8e93a1"
      },
      "outputs": [
        {
          "data": {
            "text/plain": [
              "array(['Malayalam', 'Hindi', 'Tamil', 'Kannada'], dtype=object)"
            ]
          },
          "execution_count": 3,
          "metadata": {},
          "output_type": "execute_result"
        }
      ],
      "source": [
        "df['Language'].unique()"
      ]
    },
    {
      "cell_type": "code",
      "execution_count": 4,
      "metadata": {
        "colab": {
          "base_uri": "https://localhost:8080/"
        },
        "id": "pEkdLIYxJeTI",
        "outputId": "bb88b51e-7b7f-4b1c-9b16-3bf190819048"
      },
      "outputs": [
        {
          "data": {
            "text/plain": [
              "(1495, 2)"
            ]
          },
          "execution_count": 4,
          "metadata": {},
          "output_type": "execute_result"
        }
      ],
      "source": [
        "df.shape"
      ]
    },
    {
      "cell_type": "code",
      "execution_count": 5,
      "metadata": {
        "id": "7pH4_We5JeTJ"
      },
      "outputs": [],
      "source": [
        "# Extract features and labels\n",
        "\n",
        "X = df['Text']\n",
        "y = df['Language']\n",
        "\n",
        "# Convert the target labels to numerical values using LabelEncoder\n",
        "label_encoder = LabelEncoder()\n",
        "y_encoded = label_encoder.fit_transform(y)\n",
        "\n",
        "# Split the data into training and testing sets\n",
        "X_train, X_test, y_train, y_test = train_test_split(X, y_encoded, test_size=0.2)"
      ]
    },
    {
      "cell_type": "markdown",
      "metadata": {
        "id": "4fAwJ_cJJeTJ"
      },
      "source": [
        "**Step 2: Vectorize the Text Data**"
      ]
    },
    {
      "cell_type": "code",
      "execution_count": 6,
      "metadata": {
        "id": "OVPabEniJeTK"
      },
      "outputs": [],
      "source": [
        "# Use TfidfVectorizer to transform text into numerical format\n",
        "tfidf_vectorizer = TfidfVectorizer(max_features=5000, stop_words='english')\n",
        "X_train_tfidf = tfidf_vectorizer.fit_transform(X_train)\n",
        "X_test_tfidf = tfidf_vectorizer.transform(X_test)\n"
      ]
    },
    {
      "cell_type": "markdown",
      "metadata": {
        "id": "0fPu04R0JeTK"
      },
      "source": [
        "**Gaussian Naive Bayes**"
      ]
    },
    {
      "cell_type": "code",
      "execution_count": 7,
      "metadata": {
        "colab": {
          "base_uri": "https://localhost:8080/"
        },
        "id": "E9M2k92LJeTL",
        "outputId": "a173feae-92b2-4e46-c39e-8f5f4d27b0da"
      },
      "outputs": [
        {
          "name": "stdout",
          "output_type": "stream",
          "text": [
            "Gaussian Naive Bayes Accuracy: 0.9832775919732442\n"
          ]
        }
      ],
      "source": [
        "from sklearn.naive_bayes import GaussianNB\n",
        "from sklearn.metrics import accuracy_score\n",
        "\n",
        "# Convert sparse matrix to dense as GaussianNB expects dense input\n",
        "X_train_dense = X_train_tfidf.toarray()\n",
        "X_test_dense = X_test_tfidf.toarray()\n",
        "\n",
        "# Initialize Gaussian Naive Bayes\n",
        "gnb = GaussianNB()\n",
        "\n",
        "# Train the model\n",
        "gnb.fit(X_train_dense, y_train)\n",
        "\n",
        "# Make predictions\n",
        "y_pred_gnb = gnb.predict(X_test_dense)\n",
        "\n",
        "# Calculate accuracy\n",
        "accuracy_gnb = accuracy_score(y_test, y_pred_gnb)\n",
        "print(f\"Gaussian Naive Bayes Accuracy: {accuracy_gnb}\")\n"
      ]
    },
    {
      "cell_type": "markdown",
      "metadata": {
        "id": "vcbt1CwSJeTL"
      },
      "source": [
        "**(b) Multinomial Naive Bayes**\n",
        "\n",
        "- Multinomial Naive Bayes is better suited for discrete data like word counts or frequencies."
      ]
    },
    {
      "cell_type": "code",
      "execution_count": 8,
      "metadata": {
        "colab": {
          "base_uri": "https://localhost:8080/"
        },
        "id": "iPCK6yXfJeTL",
        "outputId": "0edd50aa-389d-4bb7-ab99-252055428168"
      },
      "outputs": [
        {
          "name": "stdout",
          "output_type": "stream",
          "text": [
            "Multinomial Naive Bayes Accuracy: 0.9732441471571907\n"
          ]
        }
      ],
      "source": [
        "from sklearn.naive_bayes import MultinomialNB\n",
        "\n",
        "# Initialize Multinomial Naive Bayes\n",
        "mnb = MultinomialNB()\n",
        "\n",
        "# Train the model\n",
        "mnb.fit(X_train_tfidf, y_train)\n",
        "\n",
        "# Make predictions\n",
        "y_pred_mnb = mnb.predict(X_test_tfidf)\n",
        "\n",
        "# Calculate accuracy\n",
        "accuracy_mnb = accuracy_score(y_test, y_pred_mnb)\n",
        "print(f\"Multinomial Naive Bayes Accuracy: {accuracy_mnb}\")\n"
      ]
    },
    {
      "cell_type": "code",
      "execution_count": 9,
      "metadata": {
        "colab": {
          "base_uri": "https://localhost:8080/"
        },
        "id": "dV-sfFl_JeTM",
        "outputId": "1f732c21-4f2d-4407-d5d5-faa622d55412"
      },
      "outputs": [
        {
          "name": "stdout",
          "output_type": "stream",
          "text": [
            "Gaussian NB Accuracy: 0.9832775919732442\n",
            "Multinomial NB Accuracy: 0.9732441471571907\n"
          ]
        }
      ],
      "source": [
        "print(f\"Gaussian NB Accuracy: {accuracy_gnb}\")\n",
        "print(f\"Multinomial NB Accuracy: {accuracy_mnb}\")\n"
      ]
    },
    {
      "cell_type": "markdown",
      "metadata": {
        "id": "zqCd00zQJtMZ"
      },
      "source": [
        "**CNN**"
      ]
    },
    {
      "cell_type": "code",
      "execution_count": 10,
      "metadata": {
        "colab": {
          "base_uri": "https://localhost:8080/"
        },
        "id": "ibpwmMJwJuI5",
        "outputId": "6b0df9e8-0267-4881-a191-e321e992a48f"
      },
      "outputs": [
        {
          "name": "stdout",
          "output_type": "stream",
          "text": [
            "Epoch 1/5\n"
          ]
        },
        {
          "name": "stderr",
          "output_type": "stream",
          "text": [
            "c:\\Users\\DELL\\AppData\\Local\\Programs\\Python\\Python311\\Lib\\site-packages\\keras\\src\\layers\\core\\embedding.py:90: UserWarning: Argument `input_length` is deprecated. Just remove it.\n",
            "  warnings.warn(\n"
          ]
        },
        {
          "name": "stdout",
          "output_type": "stream",
          "text": [
            "\u001b[1m30/30\u001b[0m \u001b[32m━━━━━━━━━━━━━━━━━━━━\u001b[0m\u001b[37m\u001b[0m \u001b[1m2s\u001b[0m 26ms/step - accuracy: 0.4584 - loss: 1.2623 - val_accuracy: 0.6750 - val_loss: 1.0614\n",
            "Epoch 2/5\n",
            "\u001b[1m30/30\u001b[0m \u001b[32m━━━━━━━━━━━━━━━━━━━━\u001b[0m\u001b[37m\u001b[0m \u001b[1m1s\u001b[0m 21ms/step - accuracy: 0.7489 - loss: 0.7983 - val_accuracy: 0.9083 - val_loss: 0.3685\n",
            "Epoch 3/5\n",
            "\u001b[1m30/30\u001b[0m \u001b[32m━━━━━━━━━━━━━━━━━━━━\u001b[0m\u001b[37m\u001b[0m \u001b[1m1s\u001b[0m 23ms/step - accuracy: 0.9624 - loss: 0.2010 - val_accuracy: 0.9417 - val_loss: 0.1470\n",
            "Epoch 4/5\n",
            "\u001b[1m30/30\u001b[0m \u001b[32m━━━━━━━━━━━━━━━━━━━━\u001b[0m\u001b[37m\u001b[0m \u001b[1m1s\u001b[0m 25ms/step - accuracy: 0.9873 - loss: 0.0695 - val_accuracy: 0.9667 - val_loss: 0.0843\n",
            "Epoch 5/5\n",
            "\u001b[1m30/30\u001b[0m \u001b[32m━━━━━━━━━━━━━━━━━━━━\u001b[0m\u001b[37m\u001b[0m \u001b[1m1s\u001b[0m 23ms/step - accuracy: 0.9941 - loss: 0.0306 - val_accuracy: 0.9750 - val_loss: 0.0649\n",
            "CNN Accuracy: 97.32%\n"
          ]
        }
      ],
      "source": [
        "import pandas as pd\n",
        "import numpy as np\n",
        "from sklearn.model_selection import train_test_split\n",
        "from sklearn.preprocessing import LabelEncoder\n",
        "from tensorflow.keras.preprocessing.text import Tokenizer\n",
        "from tensorflow.keras.preprocessing.sequence import pad_sequences\n",
        "from tensorflow.keras.models import Sequential\n",
        "from tensorflow.keras.layers import Embedding, Conv1D, GlobalMaxPooling1D, Dense\n",
        "\n",
        "# Load the dataset\n",
        "data = pd.read_csv('Filtered_Indian_Languages.csv')\n",
        "\n",
        "# Prepare the data\n",
        "X = data['Text'].values  # Input text data\n",
        "y = data['Language'].values  # Language labels\n",
        "\n",
        "# Encode labels\n",
        "label_encoder = LabelEncoder()\n",
        "y_encoded = label_encoder.fit_transform(y)\n",
        "\n",
        "# Split the data into training and testing sets\n",
        "X_train, X_test, y_train, y_test = train_test_split(X, y_encoded, test_size=0.2, random_state=42)\n",
        "\n",
        "# Tokenize and pad sequences\n",
        "tokenizer = Tokenizer(num_words=5000)\n",
        "tokenizer.fit_on_texts(X_train)\n",
        "\n",
        "X_train_seq = tokenizer.texts_to_sequences(X_train)\n",
        "X_test_seq = tokenizer.texts_to_sequences(X_test)\n",
        "\n",
        "# Pad sequences to ensure uniform input length\n",
        "max_len = 100  # Maximum sequence length\n",
        "X_train_pad = pad_sequences(X_train_seq, maxlen=max_len)\n",
        "X_test_pad = pad_sequences(X_test_seq, maxlen=max_len)\n",
        "\n",
        "# Build CNN model\n",
        "cnn_model = Sequential()\n",
        "cnn_model.add(Embedding(input_dim=5000, output_dim=128, input_length=max_len))\n",
        "cnn_model.add(Conv1D(filters=256, kernel_size=3, activation='relu'))\n",
        "cnn_model.add(GlobalMaxPooling1D())\n",
        "cnn_model.add(Dense(64, activation='relu'))\n",
        "cnn_model.add(Dense(len(label_encoder.classes_), activation='softmax'))\n",
        "\n",
        "# Compile the model\n",
        "cnn_model.compile(optimizer='adam', loss='sparse_categorical_crossentropy', metrics=['accuracy'])\n",
        "\n",
        "# Train the CNN model\n",
        "cnn_model.fit(X_train_pad, y_train, epochs=5, validation_split=0.2)\n",
        "\n",
        "# Evaluate CNN model\n",
        "cnn_accuracy = cnn_model.evaluate(X_test_pad, y_test, verbose=0)[1]\n",
        "print(f'CNN Accuracy: {cnn_accuracy * 100:.2f}%')\n"
      ]
    },
    {
      "cell_type": "code",
      "execution_count": 11,
      "metadata": {
        "colab": {
          "base_uri": "https://localhost:8080/",
          "height": 849
        },
        "id": "zoZU7VuFlpL8",
        "outputId": "243c5740-ec92-489f-a055-e8984b50ce55"
      },
      "outputs": [
        {
          "name": "stdout",
          "output_type": "stream",
          "text": [
            "\u001b[1m10/10\u001b[0m \u001b[32m━━━━━━━━━━━━━━━━━━━━\u001b[0m\u001b[37m\u001b[0m \u001b[1m0s\u001b[0m 8ms/step\n"
          ]
        },
        {
          "data": {
            "image/png": "[encoded data removed]",
            "text/plain": [
              "<Figure size 1000x700 with 2 Axes>"
            ]
          },
          "metadata": {},
          "output_type": "display_data"
        },
        {
          "name": "stdout",
          "output_type": "stream",
          "text": [
            "              precision    recall  f1-score   support\n",
            "\n",
            "       Hindi       1.00      1.00      1.00        14\n",
            "     Kannada       1.00      0.95      0.97        79\n",
            "   Malayalam       0.93      1.00      0.97       113\n",
            "       Tamil       1.00      0.96      0.98        93\n",
            "\n",
            "    accuracy                           0.97       299\n",
            "   macro avg       0.98      0.98      0.98       299\n",
            "weighted avg       0.98      0.97      0.97       299\n",
            "\n"
          ]
        }
      ],
      "source": [
        "from sklearn.metrics import confusion_matrix, classification_report\n",
        "import seaborn as sns\n",
        "import matplotlib.pyplot as plt\n",
        "\n",
        "# Predict on the test set\n",
        "y_pred = cnn_model.predict(X_test_pad)\n",
        "y_pred_labels = np.argmax(y_pred, axis=1)\n",
        "\n",
        "# Create confusion matrix\n",
        "cm = confusion_matrix(y_test, y_pred_labels)\n",
        "\n",
        "plt.figure(figsize=(10, 7))\n",
        "sns.heatmap(cm, annot=True, fmt='d', cmap='Blues',\n",
        "            xticklabels=label_encoder.classes_,\n",
        "            yticklabels=label_encoder.classes_)\n",
        "plt.ylabel('Actual')\n",
        "plt.xlabel('Predicted')\n",
        "plt.title('Confusion Matrix')\n",
        "plt.show()\n",
        "\n",
        "# Classification report for more metrics\n",
        "print(classification_report(y_test, y_pred_labels, target_names=label_encoder.classes_))\n"
      ]
    },
    {
      "cell_type": "code",
      "execution_count": 12,
      "metadata": {
        "colab": {
          "base_uri": "https://localhost:8080/"
        },
        "id": "PteJRGkLl-r2",
        "outputId": "c823e153-bdde-48dc-a717-76b083a1446c"
      },
      "outputs": [
        {
          "name": "stdout",
          "output_type": "stream",
          "text": [
            "\u001b[1m1/1\u001b[0m \u001b[32m━━━━━━━━━━━━━━━━━━━━\u001b[0m\u001b[37m\u001b[0m \u001b[1m0s\u001b[0m 24ms/step\n",
            "Predicted Language: Tamil\n",
            "\u001b[1m1/1\u001b[0m \u001b[32m━━━━━━━━━━━━━━━━━━━━\u001b[0m\u001b[37m\u001b[0m \u001b[1m0s\u001b[0m 16ms/step\n",
            "Predicted Language: Malayalam\n",
            "\u001b[1m1/1\u001b[0m \u001b[32m━━━━━━━━━━━━━━━━━━━━\u001b[0m\u001b[37m\u001b[0m \u001b[1m0s\u001b[0m 22ms/step\n",
            "Predicted Language: Kannada\n",
            "\u001b[1m1/1\u001b[0m \u001b[32m━━━━━━━━━━━━━━━━━━━━\u001b[0m\u001b[37m\u001b[0m \u001b[1m0s\u001b[0m 18ms/step\n",
            "Predicted Language: Hindi\n"
          ]
        }
      ],
      "source": [
        "def predict_language(input_text):\n",
        "    # Convert the input text to a sequence of integers\n",
        "    input_seq = tokenizer.texts_to_sequences([input_text])\n",
        "\n",
        "    # Pad the sequence to match the input shape of the model\n",
        "    input_pad = pad_sequences(input_seq, maxlen=max_len)\n",
        "\n",
        "    # Get the prediction from the model\n",
        "    prediction = cnn_model.predict(input_pad)\n",
        "\n",
        "    # Get the predicted label (class)\n",
        "    predicted_label = np.argmax(prediction, axis=1)\n",
        "\n",
        "    # Map the predicted label back to the original language\n",
        "    predicted_language = label_encoder.inverse_transform(predicted_label)\n",
        "\n",
        "    return predicted_language[0]\n",
        "\n",
        "# Example usage 1\n",
        "input_text = \"என் இன்பம்.\"\n",
        "predicted_language = predict_language(input_text)\n",
        "print(f'Predicted Language: {predicted_language}')\n",
        "\n",
        "# Example usage 2\n",
        "input_text = \"ഇല്ല, ഞാൻ അങ്ങനെ വിചാരിക്കുന്നില്ല.\"\n",
        "predicted_language = predict_language(input_text)\n",
        "print(f'Predicted Language: {predicted_language}')\n",
        "\n",
        "# Example usage 3\n",
        "input_text = \"ನನಗೆ ತಿಳಿದಿಲ್ಲ ಎಂದು ನಾನು ಹೆದರುತ್ತೇನೆ\"\n",
        "predicted_language = predict_language(input_text)\n",
        "print(f'Predicted Language: {predicted_language}')\n",
        "\n",
        "# Example usage 4\n",
        "input_text = \"बहुत बहुत शुक्रिया। आप कैसे हैं?\"\n",
        "predicted_language = predict_language(input_text)\n",
        "print(f'Predicted Language: {predicted_language}')\n"
      ]
    },
    {
      "cell_type": "markdown",
      "metadata": {
        "id": "6uemXZJSZSLG"
      },
      "source": [
        "**LSTM**"
      ]
    },
    {
      "cell_type": "code",
      "execution_count": 13,
      "metadata": {
        "id": "h4JMBe-CZS_k"
      },
      "outputs": [],
      "source": [
        "import pandas as pd\n",
        "import numpy as np\n",
        "from sklearn.model_selection import train_test_split\n",
        "from sklearn.preprocessing import LabelEncoder\n",
        "from tensorflow.keras.models import Sequential\n",
        "from tensorflow.keras.layers import LSTM, Dense, Embedding, Dropout\n",
        "from tensorflow.keras.utils import to_categorical\n",
        "from tensorflow.keras.preprocessing.text import Tokenizer\n",
        "from tensorflow.keras.preprocessing.sequence import pad_sequences\n"
      ]
    },
    {
      "cell_type": "code",
      "execution_count": 14,
      "metadata": {
        "id": "5Um_qXj7ZVe4"
      },
      "outputs": [],
      "source": [
        "# Load the dataset\n",
        "df = pd.read_csv('Filtered_Indian_Languages.csv')\n",
        "\n",
        "# Features and labels\n",
        "X = df['Text']  # Text column containing the input sentences\n",
        "y = df['Language']  # Language column containing the target languages\n",
        "\n",
        "# Tokenization\n",
        "tokenizer = Tokenizer()\n",
        "tokenizer.fit_on_texts(X)\n",
        "X_seq = tokenizer.texts_to_sequences(X)\n",
        "\n",
        "# Padding the sequences to ensure uniform input size\n",
        "max_seq_length = max([len(x) for x in X_seq])  # Determine the max sequence length\n",
        "X_padded = pad_sequences(X_seq, maxlen=max_seq_length)\n",
        "\n",
        "# Encoding the labels\n",
        "le = LabelEncoder()\n",
        "y_encoded = le.fit_transform(y)\n",
        "y_categorical = to_categorical(y_encoded)\n"
      ]
    },
    {
      "cell_type": "code",
      "execution_count": 15,
      "metadata": {
        "id": "UUYnStWyZZp7"
      },
      "outputs": [],
      "source": [
        "X_train, X_test, y_train, y_test = train_test_split(X_padded, y_categorical, test_size=0.2, random_state=42)\n"
      ]
    },
    {
      "cell_type": "code",
      "execution_count": 16,
      "metadata": {
        "colab": {
          "base_uri": "https://localhost:8080/"
        },
        "id": "8KrFxb8-ZdDb",
        "outputId": "9e74eaf0-ea4e-45dd-bf6e-eccf6340c9f6"
      },
      "outputs": [
        {
          "name": "stderr",
          "output_type": "stream",
          "text": [
            "c:\\Users\\DELL\\AppData\\Local\\Programs\\Python\\Python311\\Lib\\site-packages\\keras\\src\\layers\\core\\embedding.py:90: UserWarning: Argument `input_length` is deprecated. Just remove it.\n",
            "  warnings.warn(\n"
          ]
        }
      ],
      "source": [
        "vocab_size = len(tokenizer.word_index) + 1  # Vocabulary size based on the tokenizer\n",
        "\n",
        "model = Sequential()\n",
        "\n",
        "# Embedding layer to convert tokens into dense vectors\n",
        "model.add(Embedding(input_dim=vocab_size, output_dim=128, input_length=max_seq_length))\n",
        "\n",
        "# LSTM layer to capture sequential patterns\n",
        "model.add(LSTM(128, return_sequences=False))\n",
        "\n",
        "# Fully connected layer\n",
        "model.add(Dense(128, activation='relu'))\n",
        "model.add(Dropout(0.5))  # Add dropout to prevent overfitting\n",
        "\n",
        "# Output layer (softmax for multiclass classification)\n",
        "model.add(Dense(len(np.unique(y_encoded)), activation='softmax'))\n"
      ]
    },
    {
      "cell_type": "code",
      "execution_count": 17,
      "metadata": {
        "id": "stZwuW-YZeqS"
      },
      "outputs": [],
      "source": [
        "model.compile(optimizer='adam', loss='categorical_crossentropy', metrics=['accuracy'])\n"
      ]
    },
    {
      "cell_type": "code",
      "execution_count": 124,
      "metadata": {
        "colab": {
          "base_uri": "https://localhost:8080/"
        },
        "id": "A70QJPrCZhnq",
        "outputId": "e2bc78d0-de2b-4b46-8c4a-9f68fa72827b"
      },
      "outputs": [
        {
          "name": "stdout",
          "output_type": "stream",
          "text": [
            "Epoch 1/10\n",
            "\u001b[1m19/19\u001b[0m \u001b[32m━━━━━━━━━━━━━━━━━━━━\u001b[0m\u001b[37m\u001b[0m \u001b[1m688s\u001b[0m 37s/step - accuracy: 0.3455 - loss: 1.3183 - val_accuracy: 0.3813 - val_loss: 1.1760\n",
            "Epoch 2/10\n",
            "\u001b[1m 7/19\u001b[0m \u001b[32m━━━━━━━\u001b[0m\u001b[37m━━━━━━━━━━━━━\u001b[0m \u001b[1m9:53\u001b[0m 49s/step - accuracy: 0.4287 - loss: 1.1573 "
          ]
        }
      ],
      "source": [
        "history = model.fit(X_train, y_train, epochs=10, batch_size=64, validation_data=(X_test, y_test))\n"
      ]
    },
    {
      "cell_type": "code",
      "execution_count": 125,
      "metadata": {
        "colab": {
          "base_uri": "https://localhost:8080/"
        },
        "id": "E-KlBplBZjlh",
        "outputId": "81c37da4-a61c-4a59-94d3-46c631c84b69"
      },
      "outputs": [
        {
          "name": "stdout",
          "output_type": "stream",
          "text": [
            "\u001b[1m10/10\u001b[0m \u001b[32m━━━━━━━━━━━━━━━━━━━━\u001b[0m\u001b[37m\u001b[0m \u001b[1m1s\u001b[0m 68ms/step - accuracy: 0.9522 - loss: 0.1093\n",
            "Test Accuracy: 95.32%\n"
          ]
        }
      ],
      "source": [
        "test_loss, test_accuracy = model.evaluate(X_test, y_test)\n",
        "print(f\"Test Accuracy: {test_accuracy * 100:.2f}%\")\n"
      ]
    },
    {
      "cell_type": "markdown",
      "metadata": {
        "id": "c3S2iUzHZzEA"
      },
      "source": [
        "**HMM**"
      ]
    },
    {
      "cell_type": "code",
      "execution_count": 143,
      "metadata": {
        "colab": {
          "base_uri": "https://localhost:8080/"
        },
        "id": "Wz20wHjmZljz",
        "outputId": "8df32b8d-b4e1-4d53-9fbd-764709a7134c"
      },
      "outputs": [
        {
          "name": "stdout",
          "output_type": "stream",
          "text": [
            "Requirement already satisfied: numpy in /usr/local/lib/python3.10/dist-packages (1.26.4)\n",
            "Requirement already satisfied: pandas in /usr/local/lib/python3.10/dist-packages (2.2.2)\n",
            "Requirement already satisfied: hmmlearn in /usr/local/lib/python3.10/dist-packages (0.3.2)\n",
            "Requirement already satisfied: python-dateutil>=2.8.2 in /usr/local/lib/python3.10/dist-packages (from pandas) (2.8.2)\n",
            "Requirement already satisfied: pytz>=2020.1 in /usr/local/lib/python3.10/dist-packages (from pandas) (2024.2)\n",
            "Requirement already satisfied: tzdata>=2022.7 in /usr/local/lib/python3.10/dist-packages (from pandas) (2024.2)\n",
            "Requirement already satisfied: scikit-learn!=0.22.0,>=0.16 in /usr/local/lib/python3.10/dist-packages (from hmmlearn) (1.5.2)\n",
            "Requirement already satisfied: scipy>=0.19 in /usr/local/lib/python3.10/dist-packages (from hmmlearn) (1.13.1)\n",
            "Requirement already satisfied: six>=1.5 in /usr/local/lib/python3.10/dist-packages (from python-dateutil>=2.8.2->pandas) (1.16.0)\n",
            "Requirement already satisfied: joblib>=1.2.0 in /usr/local/lib/python3.10/dist-packages (from scikit-learn!=0.22.0,>=0.16->hmmlearn) (1.4.2)\n",
            "Requirement already satisfied: threadpoolctl>=3.1.0 in /usr/local/lib/python3.10/dist-packages (from scikit-learn!=0.22.0,>=0.16->hmmlearn) (3.5.0)\n"
          ]
        }
      ],
      "source": [
        "%pip install numpy pandas hmmlearn\n"
      ]
    },
    {
      "cell_type": "code",
      "execution_count": 150,
      "metadata": {
        "colab": {
          "base_uri": "https://localhost:8080/"
        },
        "id": "lcFrZdCYfzXL",
        "outputId": "7eb84ce7-7e3e-44bf-d25e-361763ccddba"
      },
      "outputs": [
        {
          "data": {
            "text/plain": [
              "(                                                Text   Language\n",
              " 0  ഭൗതികപ്രപഞ്ചത്തെ മൊത്തത്തിൽ സൂചിപ്പിക്കുന്ന പദ...  Malayalam\n",
              " 1  ഭൗതികപ്രതിഭാസങ്ങളും ജീവനും പ്രകൃതിയുടെ ഘടകങ്ങള...  Malayalam\n",
              " 2  മനുഷ്യനിർമിതമായ വസ്തുക്കളെ പ്രകൃതിയുടെ ഭാഗമായി...  Malayalam\n",
              " 3  അവയെ കൃത്രിമം എന്ന് വിശേഷിപ്പിക്കുന്നുഅഭിപ്രായ...  Malayalam\n",
              " 4  പ്രകൃതി എന്ന പദം പ്രപഞ്ചത്തെയും അതിലെ സമസ്ത പ്...  Malayalam,\n",
              " (1495, 2))"
            ]
          },
          "execution_count": 150,
          "metadata": {},
          "output_type": "execute_result"
        }
      ],
      "source": [
        "import pandas as pd\n",
        "\n",
        "# Load the dataset\n",
        "file_path = 'Filtered_Indian_Languages.csv'\n",
        "data = pd.read_csv(file_path)\n",
        "\n",
        "# Display the first few rows and structure of the dataset\n",
        "data.head(), data.shape\n"
      ]
    },
    {
      "cell_type": "code",
      "execution_count": 151,
      "metadata": {
        "colab": {
          "base_uri": "https://localhost:8080/"
        },
        "id": "06kaLU7mr4Ku",
        "outputId": "f23b3bb6-3534-4366-e964-de242e652156"
      },
      "outputs": [
        {
          "name": "stdout",
          "output_type": "stream",
          "text": [
            "Model Accuracy: 99.67%\n"
          ]
        }
      ],
      "source": [
        "import numpy as np\n",
        "import pandas as pd\n",
        "from sklearn.model_selection import train_test_split\n",
        "from sklearn.preprocessing import LabelEncoder\n",
        "from hmmlearn import hmm\n",
        "\n",
        "\n",
        "\n",
        "# Create a character-to-index mapping for the dataset\n",
        "all_chars = sorted(list(set(''.join(data['Text']))))\n",
        "char_to_index = {char: idx for idx, char in enumerate(all_chars)}\n",
        "\n",
        "# Function to convert text sequences into numeric form\n",
        "def text_to_numeric_sequence(text):\n",
        "    return [char_to_index[char] for char in text if char in char_to_index]\n",
        "\n",
        "# Apply the conversion to the dataset\n",
        "data['Text_Numeric_Seq'] = data['Text'].apply(text_to_numeric_sequence)\n",
        "\n",
        "# Label encode the language column\n",
        "label_encoder = LabelEncoder()\n",
        "data['Language_Encoded'] = label_encoder.fit_transform(data['Language'])\n",
        "\n",
        "# Define max sequence length\n",
        "max_seq_len = 100\n",
        "\n",
        "# Padding or trimming sequences to 100 characters\n",
        "X_padded_numeric = [seq[:max_seq_len] + [0]*(max_seq_len - len(seq)) if len(seq) < max_seq_len else seq[:max_seq_len] for seq in data['Text_Numeric_Seq']]\n",
        "X_padded_numeric = np.array(X_padded_numeric)\n",
        "\n",
        "# Split data into training and test sets\n",
        "X_train, X_test, y_train, y_test = train_test_split(X_padded_numeric, data['Language_Encoded'], test_size=0.2, random_state=42)\n",
        "\n",
        "# Ensure y_train and y_test are numpy arrays\n",
        "y_train = np.array(y_train)\n",
        "y_test = np.array(y_test)\n",
        "\n",
        "# Function to train HMM models for each language\n",
        "def train_hmm(X_train, y_train, n_states=10):\n",
        "    language_models = {}\n",
        "    for label in np.unique(y_train):\n",
        "        # Filter sequences for the current label\n",
        "        sequences = X_train[y_train == label]\n",
        "\n",
        "        # Ensure that we have enough sequences to train the model\n",
        "        if len(sequences) == 0:\n",
        "            continue\n",
        "\n",
        "        # Prepare the data for fitting\n",
        "        lengths = [len(seq) for seq in sequences]\n",
        "        sequences = np.concatenate(sequences).reshape(-1, 1)\n",
        "\n",
        "        # Create and fit the HMM model for the current language\n",
        "        model = hmm.GaussianHMM(n_components=n_states, n_iter=1000, tol=0.01)  # Using GaussianHMM\n",
        "        model.fit(sequences, lengths)\n",
        "\n",
        "        language_models[label] = model\n",
        "    return language_models\n",
        "\n",
        "# Train the HMM model with the numeric sequences and matching training labels\n",
        "language_models = train_hmm(X_train, y_train)\n",
        "\n",
        "# Predict the language of a sample test sequence\n",
        "def predict_language(language_models, sequence):\n",
        "    best_score = float('-inf')\n",
        "    best_label = None\n",
        "    sequence = np.array(sequence).reshape(-1, 1)\n",
        "\n",
        "    for label, model in language_models.items():\n",
        "        try:\n",
        "            score = model.score(sequence)\n",
        "            if score > best_score:\n",
        "                best_score = score\n",
        "                best_label = label\n",
        "        except:\n",
        "            pass\n",
        "\n",
        "    return best_label\n",
        "\n",
        "# Calculate accuracy on the test set\n",
        "def calculate_accuracy(language_models, X_test, y_test):\n",
        "    correct_predictions = 0\n",
        "\n",
        "    for i, sequence in enumerate(X_test):\n",
        "        predicted_label = predict_language(language_models, sequence)\n",
        "\n",
        "        if predicted_label == y_test[i]:  # Compare prediction with the actual label\n",
        "            correct_predictions += 1\n",
        "\n",
        "    # Calculate accuracy as the percentage of correct predictions\n",
        "    accuracy = correct_predictions / len(y_test) * 100\n",
        "    return accuracy\n",
        "\n",
        "# Calculate accuracy on the test set\n",
        "accuracy = calculate_accuracy(language_models, X_test, y_test)\n",
        "print(f\"Model Accuracy: {accuracy:.2f}%\")\n"
      ]
    },
    {
      "cell_type": "code",
      "execution_count": 155,
      "metadata": {
        "colab": {
          "base_uri": "https://localhost:8080/"
        },
        "id": "5h3lJXLNm4sS",
        "outputId": "8b071334-f862-492d-fe26-a795ff0b0c8d"
      },
      "outputs": [
        {
          "name": "stdout",
          "output_type": "stream",
          "text": [
            "Naive Bayes Accuracy: 99.33%\n",
            "CNN Accuracy: 96.66%\n",
            "LSTM Accuracy: 95.32%\n",
            "LSTM Accuracy: 99.67%\n"
          ]
        }
      ],
      "source": [
        "# Assuming you have already calculated the accuracies for the models\n",
        "print(f'Naive Bayes Accuracy: {accuracy_gnb * 100:.2f}%')\n",
        "print(f'CNN Accuracy: {cnn_accuracy * 100:.2f}%')\n",
        "print(f'LSTM Accuracy: {test_accuracy * 100:.2f}%')\n",
        "print(f'LSTM Accuracy: {accuracy:.2f}%')\n",
        "\n"
      ]
    },
    {
      "cell_type": "code",
      "execution_count": null,
      "metadata": {
        "id": "MdBmEN3ShFcT"
      },
      "outputs": [],
      "source": []
    }
  ],
  "metadata": {
    "accelerator": "GPU",
    "colab": {
      "gpuType": "T4",
      "provenance": []
    },
    "kernelspec": {
      "display_name": "Python 3",
      "name": "python3"
    },
    "language_info": {
      "codemirror_mode": {
        "name": "ipython",
        "version": 3
      },
      "file_extension": ".py",
      "mimetype": "text/x-python",
      "name": "python",
      "nbconvert_exporter": "python",
      "pygments_lexer": "ipython3",
      "version": "3.11.1"
    }
  },
  "nbformat": 4,
  "nbformat_minor": 0
}
